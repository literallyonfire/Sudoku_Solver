{
 "cells": [
  {
   "cell_type": "code",
   "execution_count": 8,
   "metadata": {},
   "outputs": [],
   "source": [
    "import numpy as np\n",
    "import time"
   ]
  },
  {
   "cell_type": "code",
   "execution_count": 9,
   "metadata": {},
   "outputs": [],
   "source": [
    "#Sudoku puzzle\n",
    "sudoku = np.array([[0,0,0,8,0,0,6,9,4],\n",
    "                 [0,0,0,0,0,0,0,7,0],\n",
    "                 [0,6,0,2,1,0,0,0,0],\n",
    "                 [0,0,8,0,0,0,9,0,7],\n",
    "                 [0,2,0,0,6,0,0,5,0],\n",
    "                 [1,0,9,0,0,0,3,0,0],\n",
    "                 [0,0,0,0,2,7,0,3,0],\n",
    "                 [0,7,0,0,0,0,0,0,0],\n",
    "                 [2,9,5,0,0,8,0,0,0]])"
   ]
  },
  {
   "cell_type": "code",
   "execution_count": 10,
   "metadata": {},
   "outputs": [],
   "source": [
    "#Function that takes in a sudoku puzzle and prints out the solved result\n",
    "def solve_sudoku(sudoku):\n",
    "    for row in range(9):\n",
    "        for col in range(9):\n",
    "            if sudoku[row][col] == 0:\n",
    "                for num in range(1,10):\n",
    "                    if can_place_number(row,col,num):\n",
    "                        sudoku[row][col] = num\n",
    "                        solve_sudoku(sudoku)\n",
    "                        sudoku[row][col] = 0\n",
    "                return\n",
    "    print(sudoku)"
   ]
  },
  {
   "cell_type": "code",
   "execution_count": 11,
   "metadata": {},
   "outputs": [],
   "source": [
    "#Function that checks out whether a given number can be placed at the included row and column of the sudoku puzzle. \n",
    "def can_place_number(row,col,num):\n",
    "    \n",
    "    #check if number \"n\" is in the adjacent row and column\n",
    "    if num in sudoku[row,:]:\n",
    "        return False\n",
    "    elif num in sudoku[:,col]:\n",
    "        return False\n",
    "    \n",
    "    #Checks if number \"n\" is in its respective 3x3 square\n",
    "    row = (row//3)*3\n",
    "    col = (col//3)*3\n",
    "    if num in sudoku[row:row+3,\n",
    "                   col:col+3]:\n",
    "        return False\n",
    "    \n",
    "    return True #return true if we can put number n in that x,y coordinate"
   ]
  },
  {
   "cell_type": "code",
   "execution_count": 12,
   "metadata": {},
   "outputs": [
    {
     "name": "stdout",
     "output_type": "stream",
     "text": [
      "[[5 1 2 8 7 3 6 9 4]\n",
      " [8 3 4 6 5 9 2 7 1]\n",
      " [9 6 7 2 1 4 5 8 3]\n",
      " [6 5 8 3 4 2 9 1 7]\n",
      " [7 2 3 9 6 1 4 5 8]\n",
      " [1 4 9 7 8 5 3 6 2]\n",
      " [4 8 6 5 2 7 1 3 9]\n",
      " [3 7 1 4 9 6 8 2 5]\n",
      " [2 9 5 1 3 8 7 4 6]]\n"
     ]
    }
   ],
   "source": [
    "#Check time to see how fast the solver solved it\n",
    "start_t = time.time()\n",
    "solve_sudoku(sudoku) #<========= Sodoku Solver\n",
    "stop_t = time.time()"
   ]
  },
  {
   "cell_type": "code",
   "execution_count": 13,
   "metadata": {},
   "outputs": [
    {
     "name": "stdout",
     "output_type": "stream",
     "text": [
      "781.7096710205078\n"
     ]
    }
   ],
   "source": [
    "print((stop_t - start_t)*1000)"
   ]
  },
  {
   "cell_type": "code",
   "execution_count": 14,
   "metadata": {},
   "outputs": [],
   "source": [
    "##Code written with <3 by /u/literallyonfire"
   ]
  }
 ],
 "metadata": {
  "kernelspec": {
   "display_name": "Python 3",
   "language": "python",
   "name": "python3"
  },
  "language_info": {
   "codemirror_mode": {
    "name": "ipython",
    "version": 3
   },
   "file_extension": ".py",
   "mimetype": "text/x-python",
   "name": "python",
   "nbconvert_exporter": "python",
   "pygments_lexer": "ipython3",
   "version": "3.7.6"
  }
 },
 "nbformat": 4,
 "nbformat_minor": 4
}
